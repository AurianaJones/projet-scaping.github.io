{
 "cells": [
  {
   "cell_type": "code",
   "execution_count": 2,
   "metadata": {},
   "outputs": [],
   "source": [
    "import sqlite3\n",
    "from sqlite3 import connect\n",
    "conn = connect('./gamekult.db')\n",
    "curs= conn.cursor()\n",
    "from bs4 import BeautifulSoup\n",
    "import urllib.request\n",
    "import csv\n",
    "import numpy as np"
   ]
  },
  {
   "cell_type": "code",
   "execution_count": 3,
   "metadata": {},
   "outputs": [],
   "source": [
    "curs.execute('''CREATE TABLE IF NOT EXISTS games (\n",
    "id  INTEGER PRIMARY KEY AUTOINCREMENT,\n",
    "Plateforme TEXT,\n",
    "Titre TEXT,\n",
    "Genre TEXT,\n",
    "Date_de_sortie TEXT);'''\n",
    ")\n",
    "conn.commit()"
   ]
  },
  {
   "cell_type": "code",
   "execution_count": 4,
   "metadata": {},
   "outputs": [],
   "source": [
    "urlpage = \"https://www.gamekult.com/jeux/dernieres-sorties.html\"\n",
    "page = urllib.request.urlopen(urlpage)\n",
    "soup = BeautifulSoup(page, 'html.parser')"
   ]
  },
  {
   "cell_type": "code",
   "execution_count": 242,
   "metadata": {},
   "outputs": [
    {
     "name": "stdout",
     "output_type": "stream",
     "text": [
      "<div class=\"pr__game-h__mdb__details\">\n",
      "<span class=\"pr__game-h__mdb__details__title gk__helpers__fat-title-m\">\n",
      "<a href=\"/jeux/leisure-suit-larry-wet-dreams-don-t-dry-3050879401.html\">Leisure Suit Larry : Wet Dreams Don't Dry</a>\n",
      "</span>\n",
      "<span class=\"pr__game-h__mdb__details__category\">\n",
      "                            Aventure-Point &amp; click                    </span>\n",
      "<span class=\"pr__game-h__mdb__details__company\">\n",
      "                            par\n",
      "                                                            Assemble Entertainment                                                        </span>\n",
      "<span class=\"pr__game-h__mdb__details__company\">\n",
      "                            Développé par\n",
      "                                                            CrazyBunch                                                                    </span>\n",
      "<div class=\"pr__game-h__mdb__details__tag\">\n",
      "<span class=\"pr__platform__tag--link\">\n",
      "<a href=\"/plateforme/pc-160001.html\" title=\"PC\">\n",
      "        PC\n",
      "    </a>\n",
      "</span> <span class=\"pr__platform__tag--link\">\n",
      "<a href=\"/plateforme/ps4-160101.html\" title=\"PS4\">\n",
      "        PS4\n",
      "    </a>\n",
      "</span> <span class=\"pr__platform__tag--link\">\n",
      "<a href=\"/plateforme/switch-160106.html\" title=\"Switch\">\n",
      "        Switch\n",
      "    </a>\n",
      "</span> <span class=\"pr__platform__tag--link\">\n",
      "<a href=\"/plateforme/xone-160102.html\" title=\"XONE\">\n",
      "        XONE\n",
      "    </a>\n",
      "</span> </div>\n",
      "</div>\n",
      "<span class=\"pr__game-h__mdb__details__company\">\n",
      "                            par\n",
      "                                                            Assemble Entertainment                                                        </span>\n"
     ]
    }
   ],
   "source": [
    "all_game = soup.find_all(\"div\", class_=\"pr__game-h__mdb__details\")\n",
    "dates_prices_plat = soup.find_all(\"div\" ,class_=\"pr__game-h__mdb__offers\")\n",
    "\n",
    "print(all_game[0])\n",
    "\n",
    "titles = soup.find_all('span', attrs={'class': \"pr__game-h__mdb__details__title gk__helpers__fat-title-m\"})\n",
    "\n",
    "#A tester\n",
    "category = soup.find_all('span', attrs={'class':'pr__game-h__mdb__details__category'})\n",
    "platform = soup.find_all('span', attrs={'class': \"pr__platform__tag--link\"})\n",
    "company = soup.find_all('span', attrs={'class':\"pr__game-h__mdb__details__company\"})\n",
    "\n"
   ]
  },
  {
   "cell_type": "code",
   "execution_count": 197,
   "metadata": {},
   "outputs": [
    {
     "name": "stdout",
     "output_type": "stream",
     "text": [
      "[\"Leisure Suit Larry : Wet Dreams Don't Dry\", 'Vaporum : Lockdown', 'eFootball PES 2021', 'BPM : Bullets Per Minute', 'Fight Crab', 'Spelunky 2', 'Inertial Drift', 'RPG Maker MV', 'The Unfinished Swan', 'Ostranauts', 'Tamarin', 'Hotshot Racing', 'Vampire : The Masquerade - Shadows of New York', 'Company of Heroes', 'Control Ultimate Edition', 'Bounty Battle', 'Minoria', 'Wintermoor Tactics Club', 'Othercide', \"Bake 'n Switch\", 'Spark the Electric Jester 2', 'AeternoBlade', 'Kingdoms of Amalur : Re-Reckoning', 'Necromunda : Underhive Wars', 'AVICII Invector']\n"
     ]
    }
   ],
   "source": [
    "i = 0\n",
    "all_title =[]\n",
    "while i < len(all_game) :\n",
    "    games = title[i].text\n",
    "    games = games.strip()\n",
    "    games = games.replace('\\n',' ')\n",
    "    for a in games:\n",
    "        games = games.replace('  ',' ')\n",
    "    all_title.append(games)\n",
    "    i +=1"
   ]
  },
  {
   "cell_type": "code",
   "execution_count": 230,
   "metadata": {},
   "outputs": [
    {
     "data": {
      "text/plain": [
       "90"
      ]
     },
     "execution_count": 230,
     "metadata": {},
     "output_type": "execute_result"
    }
   ],
   "source": [
    "i = 0\n",
    "all_platform =[]\n",
    "while i < len(platform) :\n",
    "    plat = platform[i].text\n",
    "    plat = plat.strip()\n",
    "    plat = plat.replace('\\n',' ')\n",
    "    for a in plat:\n",
    "        games = games.replace('  ',' ')\n",
    "    all_platform.append(games)\n",
    "    i +=1\n",
    "len(all_platform)"
   ]
  },
  {
   "cell_type": "code",
   "execution_count": null,
   "metadata": {},
   "outputs": [],
   "source": []
  }
 ],
 "metadata": {
  "kernelspec": {
   "display_name": "Python 3",
   "language": "python",
   "name": "python3"
  },
  "language_info": {
   "codemirror_mode": {
    "name": "ipython",
    "version": 3
   },
   "file_extension": ".py",
   "mimetype": "text/x-python",
   "name": "python",
   "nbconvert_exporter": "python",
   "pygments_lexer": "ipython3",
   "version": "3.7.6"
  }
 },
 "nbformat": 4,
 "nbformat_minor": 4
}
