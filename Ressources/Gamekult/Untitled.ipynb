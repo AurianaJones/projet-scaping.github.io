{
 "cells": [
  {
   "cell_type": "code",
   "execution_count": 1,
   "metadata": {},
   "outputs": [],
   "source": [
    "import sqlite3\n",
    "from sqlite3 import connect\n",
    "conn = connect('./gamekult.db')\n",
    "curs= conn.cursor()\n",
    "from bs4 import BeautifulSoup\n",
    "import urllib.request\n",
    "import csv\n",
    "import numpy as np"
   ]
  },
  {
   "cell_type": "code",
   "execution_count": 2,
   "metadata": {},
   "outputs": [],
   "source": [
    "curs.execute('''CREATE TABLE IF NOT EXISTS games (\n",
    "id  INTEGER PRIMARY KEY AUTOINCREMENT,\n",
    "Plateforme TEXT,\n",
    "Titre TEXT,\n",
    "Genre TEXT,\n",
    "Date_de_sortie TEXT);'''\n",
    ")\n",
    "conn.commit()"
   ]
  },
  {
   "cell_type": "code",
   "execution_count": 3,
   "metadata": {},
   "outputs": [],
   "source": [
    "urlpage = \"https://www.gamekult.com/jeux/dernieres-sorties.html\"\n",
    "page = urllib.request.urlopen(urlpage)\n",
    "soup = BeautifulSoup(page, 'html.parser')"
   ]
  },
  {
   "cell_type": "code",
   "execution_count": 38,
   "metadata": {},
   "outputs": [],
   "source": [
    "all_game = soup.find_all(\"div\", class_=\"pr__game-h__mdb__details\")\n",
    "dates_prices_plat = soup.find_all(\"div\" ,class_=\"pr__game-h__mdb__offers\")\n",
    "\n",
    "\n",
    "titles = soup.find_all('span', attrs={'class': \"pr__game-h__mdb__details__title gk__helpers__fat-title-m\"})\n",
    "\n",
    "#A tester\n",
    "category = soup.find_all('span', attrs={'class':'pr__game-h__mdb__details__category'})\n",
    "platform = soup.find_all('span', attrs={'class': \"pr__platform__tag--link\"})\n",
    "company = soup.find_all('span', attrs={'class':\"pr__game-h__mdb__details__company\"})\n"
   ]
  },
  {
   "cell_type": "code",
   "execution_count": 32,
   "metadata": {},
   "outputs": [],
   "source": [
    "i = 0\n",
    "all_title =[]\n",
    "while i < len(all_game) :\n",
    "    games = titles[i].text\n",
    "    games = games.strip()\n",
    "    games = games.replace('\\n',' ')\n",
    "    for a in games:\n",
    "        games = games.replace('  ',' ')\n",
    "    all_title.append(games)\n",
    "    i +=1"
   ]
  },
  {
   "cell_type": "code",
   "execution_count": 15,
   "metadata": {},
   "outputs": [
    {
     "data": {
      "text/plain": [
       "81"
      ]
     },
     "execution_count": 15,
     "metadata": {},
     "output_type": "execute_result"
    }
   ],
   "source": [
    "i = 0\n",
    "all_platform =[]\n",
    "while i < len(platform) :\n",
    "    plat = platform[i].text\n",
    "    plat = plat.strip()\n",
    "    plat = plat.replace('\\n',' ')\n",
    "    for a in plat:\n",
    "        plat = plat.replace('  ',' ')\n",
    "    all_platform.append(plat)\n",
    "    i +=1\n",
    "len(all_platform)"
   ]
  },
  {
   "cell_type": "code",
   "execution_count": 36,
   "metadata": {},
   "outputs": [
    {
     "data": {
      "text/plain": [
       "25"
      ]
     },
     "execution_count": 36,
     "metadata": {},
     "output_type": "execute_result"
    }
   ],
   "source": [
    "i = 0\n",
    "all_games = []\n",
    "while i < len(all_game) :\n",
    "    games = all_game[i].text\n",
    "    games = games.strip()\n",
    "    games = games.replace('\\n', ' ')\n",
    "    all_games.append(games)\n",
    "    i+=1\n",
    "len(all_games)"
   ]
  },
  {
   "cell_type": "code",
   "execution_count": null,
   "metadata": {},
   "outputs": [],
   "source": []
  }
 ],
 "metadata": {
  "kernelspec": {
   "display_name": "Python 3",
   "language": "python",
   "name": "python3"
  },
  "language_info": {
   "codemirror_mode": {
    "name": "ipython",
    "version": 3
   },
   "file_extension": ".py",
   "mimetype": "text/x-python",
   "name": "python",
   "nbconvert_exporter": "python",
   "pygments_lexer": "ipython3",
   "version": "3.7.6"
  }
 },
 "nbformat": 4,
 "nbformat_minor": 4
}
