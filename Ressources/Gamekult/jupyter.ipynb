{
 "cells": [
  {
   "cell_type": "code",
   "execution_count": 1,
   "metadata": {},
   "outputs": [],
   "source": [
    "import requests\n",
    "from bs4 import BeautifulSoup\n",
    "import pprint"
   ]
  },
  {
   "cell_type": "code",
   "execution_count": 2,
   "metadata": {},
   "outputs": [],
   "source": [
    "html = requests.get(\"https://www.gamekult.com/jeux/calendrier.html\")\n",
    "html_doc = html.text\n",
    "soup = BeautifulSoup(html_doc, 'html.parser')"
   ]
  },
  {
   "cell_type": "code",
   "execution_count": 68,
   "metadata": {},
   "outputs": [
    {
     "data": {
      "text/plain": [
       "30"
      ]
     },
     "execution_count": 68,
     "metadata": {},
     "output_type": "execute_result"
    }
   ],
   "source": [
    "all_table = soup.find(\"section\", class_=\"gk__block__col col-md-8 col-xs-12\")\n",
    "#all_games_p1 = all_all.find_all(\"div\", class_=\"pr__game-h__mdb__details\")\n",
    "games = all_table.find_all(\"div\",class_=\"pr__game-h__mdb js-game-block\")"
   ]
  },
  {
   "cell_type": "code",
   "execution_count": 125,
   "metadata": {},
   "outputs": [
    {
     "data": {
      "text/plain": [
       "['Hitman',\n",
       " '',\n",
       " '',\n",
       " '                            Infiltration                    ',\n",
       " '',\n",
       " '            par\\xa0                            Io-Interactive,                             Square Enix                    ',\n",
       " '',\n",
       " '',\n",
       " '',\n",
       " '        Stadia',\n",
       " '    ',\n",
       " ' ',\n",
       " '',\n",
       " '',\n",
       " '',\n",
       " '',\n",
       " '',\n",
       " '',\n",
       " '',\n",
       " '',\n",
       " '',\n",
       " '',\n",
       " '',\n",
       " '',\n",
       " '',\n",
       " '',\n",
       " '',\n",
       " '',\n",
       " '8',\n",
       " '',\n",
       " '',\n",
       " '',\n",
       " ' ',\n",
       " '',\n",
       " '',\n",
       " 'À partir de : 15,54\\xa0€',\n",
       " '',\n",
       " '',\n",
       " '',\n",
       " '                                            PC, PS4, XONE',\n",
       " '                                        :',\n",
       " '                    11 mars 2016',\n",
       " '                ',\n",
       " '',\n",
       " '                                            Stadia',\n",
       " '                                        :',\n",
       " '                    septembre 2020']"
      ]
     },
     "execution_count": 125,
     "metadata": {},
     "output_type": "execute_result"
    }
   ],
   "source": [
    "all_games=[]\n",
    "for game in games:\n",
    "    game = game.text\n",
    "    game = game.strip()\n",
    "    game =\" \".join(game.replace('   ','').split('\\n'))\n",
    "    all_games.append(game)\n",
    "all_games[10]"
   ]
  }
 ],
 "metadata": {
  "kernelspec": {
   "display_name": "Python 3",
   "language": "python",
   "name": "python3"
  },
  "language_info": {
   "codemirror_mode": {
    "name": "ipython",
    "version": 3
   },
   "file_extension": ".py",
   "mimetype": "text/x-python",
   "name": "python",
   "nbconvert_exporter": "python",
   "pygments_lexer": "ipython3",
   "version": "3.7.6"
  }
 },
 "nbformat": 4,
 "nbformat_minor": 4
}
