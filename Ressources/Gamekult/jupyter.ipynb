{
 "cells": [
  {
   "cell_type": "code",
   "execution_count": 1,
   "metadata": {},
   "outputs": [],
   "source": [
    "import requests\n",
    "from bs4 import BeautifulSoup\n",
    "import pprint"
   ]
  },
  {
   "cell_type": "code",
   "execution_count": 2,
   "metadata": {},
   "outputs": [],
   "source": [
    "html = requests.get(\"https://www.gamekult.com/jeux/dernieres-sorties.html\")\n",
    "html_doc = html.text\n",
    "soup = BeautifulSoup(html_doc, 'html.parser')"
   ]
  },
  {
   "cell_type": "code",
   "execution_count": 10,
   "metadata": {},
   "outputs": [
    {
     "name": "stdout",
     "output_type": "stream",
     "text": [
      "<div class=\"pr__game-h__mdb__details\">\n",
      "<span class=\"pr__game-h__mdb__details__title gk__helpers__fat-title-m\">\n",
      "<a href=\"/jeux/leisure-suit-larry-wet-dreams-don-t-dry-3050879401.html\">Leisure Suit Larry : Wet Dreams Don't Dry</a>\n",
      "</span>\n",
      "<span class=\"pr__game-h__mdb__details__category\">\n",
      "                            Aventure-Point &amp; click                    </span>\n",
      "<span class=\"pr__game-h__mdb__details__company\">\n",
      "                            par\n",
      "                                                            Assemble Entertainment                                                        </span>\n",
      "<span class=\"pr__game-h__mdb__details__company\">\n",
      "                            Développé par\n",
      "                                                            CrazyBunch                                                                    </span>\n",
      "<div class=\"pr__game-h__mdb__details__tag\">\n",
      "<span class=\"pr__platform__tag--link\">\n",
      "<a href=\"/plateforme/pc-160001.html\" title=\"PC\">\n",
      "        PC\n",
      "    </a>\n",
      "</span> <span class=\"pr__platform__tag--link\">\n",
      "<a href=\"/plateforme/ps4-160101.html\" title=\"PS4\">\n",
      "        PS4\n",
      "    </a>\n",
      "</span> <span class=\"pr__platform__tag--link\">\n",
      "<a href=\"/plateforme/switch-160106.html\" title=\"Switch\">\n",
      "        Switch\n",
      "    </a>\n",
      "</span> <span class=\"pr__platform__tag--link\">\n",
      "<a href=\"/plateforme/xone-160102.html\" title=\"XONE\">\n",
      "        XONE\n",
      "    </a>\n",
      "</span> </div>\n",
      "</div>\n"
     ]
    }
   ],
   "source": [
    "all_game = soup.find_all(\"div\", class_=\"pr__game-h__mdb__details\")\n",
    "dates_prices_plat = soup.find_all(\"div\" ,class_=\"pr__game-h__mdb__offers\")\n",
    "print(all_game[0])"
   ]
  }
 ],
 "metadata": {
  "kernelspec": {
   "display_name": "Python 3",
   "language": "python",
   "name": "python3"
  },
  "language_info": {
   "codemirror_mode": {
    "name": "ipython",
    "version": 3
   },
   "file_extension": ".py",
   "mimetype": "text/x-python",
   "name": "python",
   "nbconvert_exporter": "python",
   "pygments_lexer": "ipython3",
   "version": "3.7.6"
  }
 },
 "nbformat": 4,
 "nbformat_minor": 4
}
