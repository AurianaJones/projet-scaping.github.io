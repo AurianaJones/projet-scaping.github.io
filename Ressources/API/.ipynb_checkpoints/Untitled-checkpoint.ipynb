{
 "cells": [
  {
   "cell_type": "code",
   "execution_count": 2,
   "metadata": {},
   "outputs": [],
   "source": [
    "import pandas as pd\n",
    "import sqlite3\n",
    "import requests, json"
   ]
  },
  {
   "cell_type": "code",
   "execution_count": 3,
   "metadata": {},
   "outputs": [],
   "source": [
    "conn = sqlite3.connect('scrap_game.db')\n",
    "c = conn.cursor()"
   ]
  },
  {
   "cell_type": "code",
   "execution_count": 4,
   "metadata": {},
   "outputs": [],
   "source": [
    "c.execute(\"SELECT platform, COUNT(platform) FROM release_details GROUP BY platform;\")\n",
    "count = c.fetchall()"
   ]
  },
  {
   "cell_type": "code",
   "execution_count": 20,
   "metadata": {},
   "outputs": [
    {
     "data": {
      "text/plain": [
       "[{'name': 'Playstation 4 ', 'pourcent': 39},\n",
       " {'name': 'Playstation 5', 'pourcent': 5},\n",
       " {'name': 'Switch', 'pourcent': 33},\n",
       " {'name': 'XBOX séries X', 'pourcent': 1},\n",
       " {'name': 'Xbox One', 'pourcent': 25}]"
      ]
     },
     "execution_count": 20,
     "metadata": {},
     "output_type": "execute_result"
    }
   ],
   "source": [
    "df = pd.read_sql_query(\"SELECT platform, COUNT(platform) FROM release_details GROUP BY platform;\", conn)\n",
    "df = df.rename(columns={'COUNT(platform)': 'pourcent', \"platform\" : \"name\"})\n",
    "d = df.to_dict('records')"
   ]
  },
  {
   "cell_type": "code",
   "execution_count": 36,
   "metadata": {},
   "outputs": [
    {
     "data": {
      "text/plain": [
       "0     2020-11-10\n",
       "1     2020-10-16\n",
       "2     2020-10-16\n",
       "3     2020-10-16\n",
       "4     2020-12-31\n",
       "         ...    \n",
       "98    2020-10-29\n",
       "99    2020-10-29\n",
       "100   2020-11-10\n",
       "101   2020-11-10\n",
       "102   2020-10-16\n",
       "Name: release_date, Length: 103, dtype: datetime64[ns]"
      ]
     },
     "execution_count": 36,
     "metadata": {},
     "output_type": "execute_result"
    }
   ],
   "source": [
    "df2 = pd.read_sql_query(\"SELECT title, type, release_date, price, publisher, platform FROM games JOIN games_details ON games_details.game_id = games.id JOIN release_details ON release_details.game_id = games.id;\", conn)\n",
    "df2['release_date'] = pd.to_datetime(df2['release_date'], format='%d/%m/%Y', errors='coerce')\n",
    "df2.info()"
   ]
  }
 ],
 "metadata": {
  "kernelspec": {
   "display_name": "Python 3",
   "language": "python",
   "name": "python3"
  },
  "language_info": {
   "codemirror_mode": {
    "name": "ipython",
    "version": 3
   },
   "file_extension": ".py",
   "mimetype": "text/x-python",
   "name": "python",
   "nbconvert_exporter": "python",
   "pygments_lexer": "ipython3",
   "version": "3.7.6"
  }
 },
 "nbformat": 4,
 "nbformat_minor": 4
}
