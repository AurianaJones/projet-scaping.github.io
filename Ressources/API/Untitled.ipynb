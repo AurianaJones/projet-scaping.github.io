{
 "cells": [
  {
   "cell_type": "code",
   "execution_count": 1,
   "metadata": {},
   "outputs": [],
   "source": [
    "import pandas as pd\n",
    "import sqlite3\n",
    "import requests, json"
   ]
  },
  {
   "cell_type": "code",
   "execution_count": 2,
   "metadata": {},
   "outputs": [],
   "source": [
    "conn = sqlite3.connect('scrap_game.db')\n",
    "c = conn.cursor()"
   ]
  },
  {
   "cell_type": "code",
   "execution_count": 3,
   "metadata": {},
   "outputs": [],
   "source": [
    "c.execute(\"SELECT platform, COUNT(platform) FROM release_details GROUP BY platform;\")\n",
    "count = c.fetchall()"
   ]
  },
  {
   "cell_type": "code",
   "execution_count": 4,
   "metadata": {},
   "outputs": [],
   "source": [
    "df = pd.read_sql_query(\"SELECT platform, COUNT(platform) FROM release_details GROUP BY platform;\", conn)\n",
    "df = df.rename(columns={'COUNT(platform)': 'pourcent', \"platform\" : \"name\"})\n",
    "d = df.to_dict('records')"
   ]
  },
  {
   "cell_type": "code",
   "execution_count": 10,
   "metadata": {},
   "outputs": [],
   "source": [
    "df2 = pd.read_sql_query(\"SELECT title, type, release_date, price, publisher, platform FROM games JOIN games_details ON games_details.game_id = games.id JOIN release_details ON release_details.game_id = games.id;\", conn)\n",
    "df2['release_date'] = pd.to_datetime(df2['release_date'], format='%d/%m/%Y', errors='coerce')\n",
    "df2 = df2.set_index('title')"
   ]
  },
  {
   "cell_type": "code",
   "execution_count": 11,
   "metadata": {},
   "outputs": [],
   "source": [
    "html = df2.to_html()\n",
    "text_file = open(\"table.html\", \"w\")\n",
    "text_file.write(html)\n",
    "text_file.close()"
   ]
  },
  {
   "cell_type": "code",
   "execution_count": 7,
   "metadata": {},
   "outputs": [
    {
     "data": {
      "text/plain": [
       "[{'genre': 'Action', 'nombres': 1},\n",
       " {'genre': 'Action-Aventure', 'nombres': 11},\n",
       " {'genre': 'Basket', 'nombres': 1},\n",
       " {'genre': \"Beat'em Up\", 'nombres': 2},\n",
       " {'genre': 'Combat', 'nombres': 2},\n",
       " {'genre': 'Course', 'nombres': 5},\n",
       " {'genre': 'Course Kart', 'nombres': 1},\n",
       " {'genre': 'Course Moto ', 'nombres': 2},\n",
       " {'genre': 'Divers', 'nombres': 1},\n",
       " {'genre': 'FPS', 'nombres': 4},\n",
       " {'genre': 'Football', 'nombres': 3},\n",
       " {'genre': 'Gestion', 'nombres': 5},\n",
       " {'genre': 'Jeux de rôles', 'nombres': 2},\n",
       " {'genre': 'Plates-formes', 'nombres': 8},\n",
       " {'genre': 'RPG - Tour par tour', 'nombres': 1},\n",
       " {'genre': 'Réflexion - Stratégie', 'nombres': 2},\n",
       " {'genre': 'Stratégie temps réel (STR)', 'nombres': 1},\n",
       " {'genre': 'Survival Horror', 'nombres': 3},\n",
       " {'genre': 'TPS', 'nombres': 2},\n",
       " {'genre': 'Visual Novel', 'nombres': 2}]"
      ]
     },
     "execution_count": 7,
     "metadata": {},
     "output_type": "execute_result"
    }
   ],
   "source": [
    "df3 = pd.read_sql_query(\"SELECT type, COUNT(type) FROM games GROUP BY type;\", conn)\n",
    "df3 = df3.rename(columns={'COUNT(type)': 'nombres', \"type\" : \"genre\"})\n",
    "d = df3.to_dict('records')\n",
    "d"
   ]
  }
 ],
 "metadata": {
  "kernelspec": {
   "display_name": "Python 3",
   "language": "python",
   "name": "python3"
  },
  "language_info": {
   "codemirror_mode": {
    "name": "ipython",
    "version": 3
   },
   "file_extension": ".py",
   "mimetype": "text/x-python",
   "name": "python",
   "nbconvert_exporter": "python",
   "pygments_lexer": "ipython3",
   "version": "3.7.6"
  }
 },
 "nbformat": 4,
 "nbformat_minor": 4
}
